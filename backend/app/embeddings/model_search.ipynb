{
 "cells": [
  {
   "cell_type": "markdown",
   "metadata": {},
   "source": [
    "# Search for a model for summarization"
   ]
  },
  {
   "cell_type": "markdown",
   "metadata": {},
   "source": [
    "Recommended Free Language Models for Summarizing Text Extracted from HTML:\n",
    "\n",
    "These models are generally well-regarded for summarization and have publicly available weights on Hugging Face Transformers:\n",
    "\n",
    "## BART (e.g., facebook/bart-large-cnn):\n",
    "\n",
    "Pros: Known for strong abstractive summarization performance, especially the large-cnn variant which was fine-tuned on news articles. Relatively robust and widely used.\n",
    "Cons: Can be computationally intensive for very long inputs, but manageable for moderate-length text extracted from HTML.\n",
    "Hugging Face Model Card: facebook/bart-large-cnn\n",
    "\n",
    "## T5 (e.g., t5-small, t5-base, t5-large):\n",
    "\n",
    "Pros: A powerful text-to-text transformer that can be used for various tasks, including summarization (by prepending \"summarize: \"). Different sizes are available, allowing you to choose based on your computational resources. t5-base and t5-large generally offer better quality than t5-small.\n",
    "Cons: Can sometimes be more prone to generating shorter or less abstractive summaries compared to BART or PEGASUS, depending on the prompt and hyperparameters.\n",
    "Hugging Face Model Cards:\n",
    "t5-small\n",
    "t5-base\n",
    "t5-large\n",
    "\n",
    "\n"
   ]
  },
  {
   "cell_type": "code",
   "execution_count": 2,
   "metadata": {},
   "outputs": [],
   "source": [
    "html_content = \"\"\"\n",
    "<!DOCTYPE html>\n",
    "<html>\n",
    "<head>\n",
    "<title>Breaking News: Local Bakery Wins National Award</title>\n",
    "</head>\n",
    "<body>\n",
    "  <h1>Local Bakery Crowned Best in the Nation</h1>\n",
    "  <p>Sweet Surrender bakery in downtown Willow Creek has just been awarded the prestigious \"Golden Whisk\" award for the best bakery in the United States at the National Baking Competition held in Chicago this week.</p>\n",
    "  <p>The bakery, owned and operated by local resident Sarah Miller, has been a community staple for over a decade, known for its delicious pastries, custom cakes, and friendly service.</p>\n",
    "  <p>Miller expressed her excitement and gratitude, thanking her dedicated team and loyal customers for their support.</p>\n",
    "  <p>The award is expected to bring increased attention and business to the small town bakery.</p>\n",
    "</body>\n",
    "</html>\n",
    "\"\"\"\n"
   ]
  },
  {
   "cell_type": "code",
   "execution_count": null,
   "metadata": {},
   "outputs": [
    {
     "data": {
      "application/vnd.jupyter.widget-view+json": {
       "model_id": "61fe020d235d4b35ae75c08c836320f3",
       "version_major": 2,
       "version_minor": 0
      },
      "text/plain": [
       "config.json:   0%|          | 0.00/1.58k [00:00<?, ?B/s]"
      ]
     },
     "metadata": {},
     "output_type": "display_data"
    },
    {
     "data": {
      "application/vnd.jupyter.widget-view+json": {
       "model_id": "4d6a37425d164f0fa36ed77dd8f47956",
       "version_major": 2,
       "version_minor": 0
      },
      "text/plain": [
       "model.safetensors:   0%|          | 0.00/1.63G [00:00<?, ?B/s]"
      ]
     },
     "metadata": {},
     "output_type": "display_data"
    },
    {
     "data": {
      "application/vnd.jupyter.widget-view+json": {
       "model_id": "23aee1bfbdfd4a5db008b657076d17e8",
       "version_major": 2,
       "version_minor": 0
      },
      "text/plain": [
       "generation_config.json:   0%|          | 0.00/363 [00:00<?, ?B/s]"
      ]
     },
     "metadata": {},
     "output_type": "display_data"
    },
    {
     "data": {
      "application/vnd.jupyter.widget-view+json": {
       "model_id": "b9057f836af5481c92a8892ec3a257ff",
       "version_major": 2,
       "version_minor": 0
      },
      "text/plain": [
       "vocab.json:   0%|          | 0.00/899k [00:00<?, ?B/s]"
      ]
     },
     "metadata": {},
     "output_type": "display_data"
    },
    {
     "data": {
      "application/vnd.jupyter.widget-view+json": {
       "model_id": "dae4794d42b842ae9b433248c38b6a8d",
       "version_major": 2,
       "version_minor": 0
      },
      "text/plain": [
       "merges.txt:   0%|          | 0.00/456k [00:00<?, ?B/s]"
      ]
     },
     "metadata": {},
     "output_type": "display_data"
    },
    {
     "data": {
      "application/vnd.jupyter.widget-view+json": {
       "model_id": "1b2a1f576f2f4cd0a66650f75dbfd80b",
       "version_major": 2,
       "version_minor": 0
      },
      "text/plain": [
       "tokenizer.json:   0%|          | 0.00/1.36M [00:00<?, ?B/s]"
      ]
     },
     "metadata": {},
     "output_type": "display_data"
    },
    {
     "name": "stderr",
     "output_type": "stream",
     "text": [
      "Device set to use mps:0\n"
     ]
    },
    {
     "name": "stdout",
     "output_type": "stream",
     "text": [
      "[{'summary_text': 'Sweet Surrender bakery in downtown Willow Creek has just been awarded the prestigious \"Golden Whisk\" award. The bakery, owned and operated by local resident Sarah Miller, has been a community staple for over a decade.'}]\n"
     ]
    }
   ],
   "source": [
    "# About 1.63GB\n",
    "# 406M params\n",
    "# https://huggingface.co/facebook/bart-large-cnn\n",
    "\n",
    "from transformers import pipeline\n",
    "\n",
    "summarizer = pipeline(\"summarization\", model=\"facebook/bart-large-cnn\")\n",
    "\n",
    "\n",
    "print(summarizer(html_content, max_length=130, min_length=30, do_sample=False))\n"
   ]
  },
  {
   "cell_type": "code",
   "execution_count": null,
   "metadata": {},
   "outputs": [],
   "source": [
    "html_content_with_title_only = \"\"\"\n",
    "<!DOCTYPE html>\n",
    "<html>\n",
    "<head>\n",
    "<title>Breaking News: Local Bakery Wins National Award</title>\n",
    "</head>\n",
    "</html>\n",
    "\"\"\""
   ]
  },
  {
   "cell_type": "code",
   "execution_count": 5,
   "metadata": {},
   "outputs": [
    {
     "name": "stderr",
     "output_type": "stream",
     "text": [
      "Your max_length is set to 130, but your input_length is only 45. Since this is a summarization task, where outputs shorter than the input are typically wanted, you might consider decreasing max_length manually, e.g. summarizer('...', max_length=22)\n"
     ]
    },
    {
     "name": "stdout",
     "output_type": "stream",
     "text": [
      "[{'summary_text': 'Local Bakery Wins National Award. Local Bakery wins National Award for Bakery of the Year. Bakery also wins Best Bakery in the State.'}]\n"
     ]
    }
   ],
   "source": [
    "print(summarizer(html_content_with_title_only, max_length=130, min_length=30, do_sample=False))\n"
   ]
  },
  {
   "cell_type": "markdown",
   "metadata": {},
   "source": [
    "# Or if we want a smaller model"
   ]
  },
  {
   "cell_type": "code",
   "execution_count": 19,
   "metadata": {},
   "outputs": [
    {
     "name": "stderr",
     "output_type": "stream",
     "text": [
      "Device set to use mps:0\n"
     ]
    }
   ],
   "source": [
    "# https://huggingface.co/google-t5/t5-small\n",
    "# Around 250 MB\n",
    "# 60.5M params\n",
    "\n",
    "from transformers import pipeline\n",
    "\n",
    "summarizer = pipeline(\"summarization\", model=\"google-t5/t5-small\")\n",
    "\n"
   ]
  },
  {
   "cell_type": "code",
   "execution_count": 20,
   "metadata": {},
   "outputs": [
    {
     "name": "stdout",
     "output_type": "stream",
     "text": [
      "p>Sweet Surrender bakery in downtown Willow Creek has been awarded the \"Golden Whisk\" award . the award is expected to bring increased attention and business to the small town bakery .\n"
     ]
    }
   ],
   "source": [
    "summary = summarizer(html_content, max_length=150, min_length=30, do_sample=False)[0]['summary_text']\n",
    "print(summary)"
   ]
  },
  {
   "cell_type": "code",
   "execution_count": 21,
   "metadata": {},
   "outputs": [
    {
     "name": "stdout",
     "output_type": "stream",
     "text": [
      "Generated Prompted Summary (T5-base): local bakery in downtown Willow Creek has been awarded the prestigious \"Golden Whisk\" award for the best bakery in the united states . /p>Miller expressed her excitement and gratitude, thanking her dedicated team and loyal customers for their support .\n"
     ]
    }
   ],
   "source": [
    "# Lets try prompt eng\n",
    "prompted_text = \"Summarize the following article in a detailed and descriptive manner suitable for embedding in a database for similarity search: \" + html_content\n",
    "summary = summarizer(\n",
    "    prompted_text,\n",
    "    max_length=250,\n",
    "    min_length=50,\n",
    "    do_sample=False\n",
    ")[0]['summary_text']\n",
    "print(f\"Generated Prompted Summary (T5-base): {summary}\")"
   ]
  },
  {
   "cell_type": "markdown",
   "metadata": {},
   "source": [
    "# Model in between bart and t5 small"
   ]
  },
  {
   "cell_type": "code",
   "execution_count": 8,
   "metadata": {},
   "outputs": [
    {
     "data": {
      "application/vnd.jupyter.widget-view+json": {
       "model_id": "98b67d76c7794e08ac73134b585efa56",
       "version_major": 2,
       "version_minor": 0
      },
      "text/plain": [
       "config.json:   0%|          | 0.00/1.21k [00:00<?, ?B/s]"
      ]
     },
     "metadata": {},
     "output_type": "display_data"
    },
    {
     "name": "stderr",
     "output_type": "stream",
     "text": [
      "Xet Storage is enabled for this repo, but the 'hf_xet' package is not installed. Falling back to regular HTTP download. For better performance, install the package with: `pip install huggingface_hub[hf_xet]` or `pip install hf_xet`\n"
     ]
    },
    {
     "data": {
      "application/vnd.jupyter.widget-view+json": {
       "model_id": "751afa7851f84e1bae9c344ee44fcaf0",
       "version_major": 2,
       "version_minor": 0
      },
      "text/plain": [
       "model.safetensors:   0%|          | 0.00/892M [00:00<?, ?B/s]"
      ]
     },
     "metadata": {},
     "output_type": "display_data"
    },
    {
     "data": {
      "application/vnd.jupyter.widget-view+json": {
       "model_id": "47f5b120461e4908a48ba4713409db04",
       "version_major": 2,
       "version_minor": 0
      },
      "text/plain": [
       "generation_config.json:   0%|          | 0.00/147 [00:00<?, ?B/s]"
      ]
     },
     "metadata": {},
     "output_type": "display_data"
    },
    {
     "data": {
      "application/vnd.jupyter.widget-view+json": {
       "model_id": "bb5884085181429c9fc58d87f7ce55e2",
       "version_major": 2,
       "version_minor": 0
      },
      "text/plain": [
       "spiece.model:   0%|          | 0.00/792k [00:00<?, ?B/s]"
      ]
     },
     "metadata": {},
     "output_type": "display_data"
    },
    {
     "data": {
      "application/vnd.jupyter.widget-view+json": {
       "model_id": "042783131264485caa21cb059e18a076",
       "version_major": 2,
       "version_minor": 0
      },
      "text/plain": [
       "tokenizer.json:   0%|          | 0.00/1.39M [00:00<?, ?B/s]"
      ]
     },
     "metadata": {},
     "output_type": "display_data"
    },
    {
     "name": "stderr",
     "output_type": "stream",
     "text": [
      "Device set to use mps:0\n"
     ]
    }
   ],
   "source": [
    "# Around 900 MB\n",
    "# 223 parameters\n",
    "\n",
    "from transformers import pipeline\n",
    "\n",
    "summarizer = pipeline(\"summarization\", model=\"google-t5/t5-base\")\n",
    "\n"
   ]
  },
  {
   "cell_type": "code",
   "execution_count": 9,
   "metadata": {},
   "outputs": [
    {
     "name": "stdout",
     "output_type": "stream",
     "text": [
      "Generated Summary (T5-base): \"Golden Whisk\" award is expected to bring increased attention and business to the small town bakery . sweet surrender bakery in downtown Willow Creek has been a community staple for over a decade .\n"
     ]
    }
   ],
   "source": [
    "summary = summarizer(html_content, max_length=150, min_length=30, do_sample=False)[0]['summary_text']\n",
    "print(f\"Generated Summary (T5-base): {summary}\")"
   ]
  },
  {
   "cell_type": "markdown",
   "metadata": {},
   "source": [
    "# OR we use an API"
   ]
  },
  {
   "cell_type": "code",
   "execution_count": 16,
   "metadata": {},
   "outputs": [],
   "source": [
    "from huggingface_hub import InferenceClient\n",
    "from dotenv import load_dotenv\n",
    "import os\n",
    "\n",
    "load_dotenv()\n",
    "api_key = os.environ.get(\"HUGGINGFACE_API_KEY\")\n",
    "\n",
    "client = InferenceClient(\n",
    "    provider=\"hf-inference\",\n",
    "    api_key=api_key,\n",
    ")\n",
    "\n"
   ]
  },
  {
   "cell_type": "code",
   "execution_count": 17,
   "metadata": {},
   "outputs": [
    {
     "name": "stdout",
     "output_type": "stream",
     "text": [
      "SummarizationOutput(summary_text='Sweet Surrender bakery in downtown Willow Creek has just been awarded the prestigious \"Golden Whisk\" award for the best bakery in the United States. The bakery, owned and operated by local resident Sarah Miller, has been a community staple for over a decade, known for its delicious pastries, custom cakes, and friendly service.')\n"
     ]
    }
   ],
   "source": [
    "result = client.summarization(\n",
    "    html_content,\n",
    "    model=\"facebook/bart-large-cnn\",\n",
    ")\n",
    "\n",
    "print(result)"
   ]
  },
  {
   "cell_type": "code",
   "execution_count": 23,
   "metadata": {},
   "outputs": [],
   "source": [
    "# Lets try prompt eng\n",
    "prompted_text = \"Summarize the following article in a detailed and descriptive manner suitable for embedding in a database for similarity search: \" + html_content\n",
    "\n",
    "\n",
    "result = client.summarization(prompted_text, model=\"facebook/bart-large-cnn\")"
   ]
  },
  {
   "cell_type": "code",
   "execution_count": null,
   "metadata": {},
   "outputs": [
    {
     "name": "stdout",
     "output_type": "stream",
     "text": [
      "SummarizationOutput(summary_text='Sweet Surrender bakery in downtown Willow Creek has just been awarded the prestigious \"Golden Whisk\" award for the best bakery in the United States. The bakery, owned and operated by local resident Sarah Miller, has been a community staple for over a decade. The award is expected to bring increased attention and business to the small town bakery.')\n"
     ]
    }
   ],
   "source": [
    "print(result) #took 22 seconds, this can be vary wildy and may get an error"
   ]
  }
 ],
 "metadata": {
  "kernelspec": {
   "display_name": "base",
   "language": "python",
   "name": "python3"
  },
  "language_info": {
   "codemirror_mode": {
    "name": "ipython",
    "version": 3
   },
   "file_extension": ".py",
   "mimetype": "text/x-python",
   "name": "python",
   "nbconvert_exporter": "python",
   "pygments_lexer": "ipython3",
   "version": "3.12.2"
  }
 },
 "nbformat": 4,
 "nbformat_minor": 2
}
